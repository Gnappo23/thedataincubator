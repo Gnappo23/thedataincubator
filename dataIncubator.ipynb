{
 "cells": [
  {
   "cell_type": "code",
   "execution_count": null,
   "metadata": {},
   "outputs": [],
   "source": [
    "import collections\n",
    "import pandas as pd\n",
    "import numpy as np\n",
    "import matplotlib.pyplot as plt\n",
    "import matplotlib.cm as cm\n",
    "#%matplotlib inline\n",
    "import math\n",
    "\n",
    "Questions = pd.read_csv(\"C:\\\\Users\\\\luigi\\\\Downloads\\\\pythonquestions\\\\Questions.csv\",encoding = 'iso-8859-1')\n",
    "Answers = pd.read_csv(\"C:\\\\Users\\\\luigi\\\\Downloads\\\\pythonquestions\\\\Answers.csv\",encoding = 'iso-8859-1')\n",
    "Tag = pd.read_csv(\"C:\\\\Users\\\\luigi\\\\Downloads\\\\pythonquestions\\\\Tags.csv\",encoding = 'iso-8859-1')\n",
    "\n",
    "##########################\n",
    "\n",
    "def plot_tags(tagCount):\n",
    "    \n",
    "    x,y = zip(*tagCount)\n",
    "\n",
    "    colormap = plt.cm.gist_ncar #nipy_spectral, Set1,Paired  \n",
    "    colors = [colormap(i) for i in np.linspace(0, 0.8,50)]   \n",
    "\n",
    "    area = [i/4000 for i in list(y)]   # 0 to 15 point radiuses\n",
    "    plt.figure(figsize=(20,19))\n",
    "    plt.ylabel(\"Number of question associations\")\n",
    "    for i in range(len(y)):\n",
    "        plt.plot(i,y[i], marker='o', linestyle='',ms=area[i],label=x[i])\n",
    "\n",
    "    plt.legend(numpoints=1)\n",
    "    plt.show()\n",
    "    \n",
    "#############################    \n",
    "    \n",
    "tagCount =  collections.Counter(list(Tag['Tag'])).most_common(10)\n",
    "print(tagCount)\n",
    "plot_tags(tagCount)\n",
    "\n",
    "#Joining_Data_Frame\n",
    "Tag = Tag.rename(columns={'Id': 'ParentId'})\n",
    "df = pd.merge(Answers,Tag,how='left',on='ParentId')\n",
    "df_reduced = df[200:]\n",
    "df_reduced.to_csv(\"C:\\\\Users\\\\luigi\\\\Downloads\\\\pythonquestions\\\\TagsTotal.csv\", index = 0, sep=';')                \n"
   ]
  }
 ],
 "metadata": {
  "kernelspec": {
   "display_name": "Python 3",
   "language": "python",
   "name": "python3"
  },
  "language_info": {
   "codemirror_mode": {
    "name": "ipython",
    "version": 3
   },
   "file_extension": ".py",
   "mimetype": "text/x-python",
   "name": "python",
   "nbconvert_exporter": "python",
   "pygments_lexer": "ipython3",
   "version": "3.6.4"
  }
 },
 "nbformat": 4,
 "nbformat_minor": 2
}
